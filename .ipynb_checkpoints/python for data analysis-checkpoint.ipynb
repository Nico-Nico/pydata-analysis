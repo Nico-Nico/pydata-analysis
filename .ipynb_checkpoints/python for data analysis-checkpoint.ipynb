{
 "cells": [
  {
   "cell_type": "code",
   "execution_count": 59,
   "metadata": {},
   "outputs": [],
   "source": [
    "import pandas as pd\n",
    "import json"
   ]
  },
  {
   "cell_type": "code",
   "execution_count": 60,
   "metadata": {},
   "outputs": [],
   "source": [
    "path = \"usagov_bitly_data2012-03-16-1331923249.txt\""
   ]
  },
  {
   "cell_type": "code",
   "execution_count": 69,
   "metadata": {},
   "outputs": [],
   "source": [
    "records = [json.loads(line) for line in open(path)]"
   ]
  },
  {
   "cell_type": "code",
   "execution_count": 71,
   "metadata": {},
   "outputs": [
    {
     "data": {
      "text/plain": [
       "{'a': 'Mozilla/5.0 (Windows NT 6.1; WOW64) AppleWebKit/535.11 (KHTML, like Gecko) Chrome/17.0.963.78 Safari/535.11',\n",
       " 'al': 'en-US,en;q=0.8',\n",
       " 'c': 'US',\n",
       " 'cy': 'Danvers',\n",
       " 'g': 'A6qOVH',\n",
       " 'gr': 'MA',\n",
       " 'h': 'wfLQtf',\n",
       " 'hc': 1331822918,\n",
       " 'hh': '1.usa.gov',\n",
       " 'l': 'orofrog',\n",
       " 'll': [42.576698, -70.954903],\n",
       " 'nk': 1,\n",
       " 'r': 'http://www.facebook.com/l/7AQEFzjSi/1.usa.gov/wfLQtf',\n",
       " 't': 1331923247,\n",
       " 'tz': 'America/New_York',\n",
       " 'u': 'http://www.ncbi.nlm.nih.gov/pubmed/22415991'}"
      ]
     },
     "execution_count": 71,
     "metadata": {},
     "output_type": "execute_result"
    }
   ],
   "source": [
    "records[0]"
   ]
  },
  {
   "cell_type": "code",
   "execution_count": 79,
   "metadata": {},
   "outputs": [],
   "source": [
    "time_zones = [rec['tz'] for rec in records if 'tz' in rec]"
   ]
  },
  {
   "cell_type": "code",
   "execution_count": 81,
   "metadata": {},
   "outputs": [
    {
     "data": {
      "text/plain": [
       "['America/New_York',\n",
       " 'America/Denver',\n",
       " 'America/New_York',\n",
       " 'America/Sao_Paulo',\n",
       " 'America/New_York',\n",
       " 'America/New_York',\n",
       " 'Europe/Warsaw',\n",
       " '',\n",
       " '',\n",
       " '']"
      ]
     },
     "execution_count": 81,
     "metadata": {},
     "output_type": "execute_result"
    }
   ],
   "source": [
    "time_zones[:10]"
   ]
  },
  {
   "cell_type": "code",
   "execution_count": 89,
   "metadata": {},
   "outputs": [],
   "source": [
    "from collections import defaultdict\n",
    "def get_counts(sequence):\n",
    "    counts = defaultdict(int)\n",
    "    \n",
    "    for tz in sequence:\n",
    "        counts[tz] += 1\n",
    "    \n",
    "    return counts"
   ]
  },
  {
   "cell_type": "code",
   "execution_count": 90,
   "metadata": {},
   "outputs": [
    {
     "data": {
      "text/plain": [
       "defaultdict(int,\n",
       "            {'': 521,\n",
       "             'Africa/Cairo': 3,\n",
       "             'Africa/Casablanca': 1,\n",
       "             'Africa/Ceuta': 2,\n",
       "             'Africa/Johannesburg': 1,\n",
       "             'Africa/Lusaka': 1,\n",
       "             'America/Anchorage': 5,\n",
       "             'America/Argentina/Buenos_Aires': 1,\n",
       "             'America/Argentina/Cordoba': 1,\n",
       "             'America/Argentina/Mendoza': 1,\n",
       "             'America/Bogota': 3,\n",
       "             'America/Caracas': 1,\n",
       "             'America/Chicago': 400,\n",
       "             'America/Chihuahua': 2,\n",
       "             'America/Costa_Rica': 1,\n",
       "             'America/Denver': 191,\n",
       "             'America/Edmonton': 6,\n",
       "             'America/Guayaquil': 2,\n",
       "             'America/Halifax': 4,\n",
       "             'America/Indianapolis': 20,\n",
       "             'America/La_Paz': 1,\n",
       "             'America/Lima': 1,\n",
       "             'America/Los_Angeles': 382,\n",
       "             'America/Managua': 3,\n",
       "             'America/Mazatlan': 1,\n",
       "             'America/Mexico_City': 15,\n",
       "             'America/Monterrey': 1,\n",
       "             'America/Montevideo': 1,\n",
       "             'America/Montreal': 9,\n",
       "             'America/New_York': 1251,\n",
       "             'America/Phoenix': 20,\n",
       "             'America/Puerto_Rico': 10,\n",
       "             'America/Rainy_River': 25,\n",
       "             'America/Recife': 2,\n",
       "             'America/Santo_Domingo': 1,\n",
       "             'America/Sao_Paulo': 33,\n",
       "             'America/St_Kitts': 1,\n",
       "             'America/Tegucigalpa': 1,\n",
       "             'America/Vancouver': 12,\n",
       "             'America/Winnipeg': 4,\n",
       "             'Asia/Amman': 2,\n",
       "             'Asia/Bangkok': 6,\n",
       "             'Asia/Beirut': 4,\n",
       "             'Asia/Calcutta': 9,\n",
       "             'Asia/Dubai': 4,\n",
       "             'Asia/Harbin': 3,\n",
       "             'Asia/Hong_Kong': 10,\n",
       "             'Asia/Istanbul': 9,\n",
       "             'Asia/Jakarta': 3,\n",
       "             'Asia/Jerusalem': 3,\n",
       "             'Asia/Karachi': 3,\n",
       "             'Asia/Kuala_Lumpur': 3,\n",
       "             'Asia/Kuching': 1,\n",
       "             'Asia/Manila': 1,\n",
       "             'Asia/Nicosia': 1,\n",
       "             'Asia/Novosibirsk': 1,\n",
       "             'Asia/Pontianak': 1,\n",
       "             'Asia/Riyadh': 1,\n",
       "             'Asia/Seoul': 5,\n",
       "             'Asia/Tokyo': 37,\n",
       "             'Asia/Yekaterinburg': 1,\n",
       "             'Australia/NSW': 6,\n",
       "             'Australia/Queensland': 1,\n",
       "             'Chile/Continental': 6,\n",
       "             'Europe/Amsterdam': 22,\n",
       "             'Europe/Athens': 6,\n",
       "             'Europe/Belgrade': 2,\n",
       "             'Europe/Berlin': 28,\n",
       "             'Europe/Bratislava': 3,\n",
       "             'Europe/Brussels': 4,\n",
       "             'Europe/Bucharest': 4,\n",
       "             'Europe/Budapest': 5,\n",
       "             'Europe/Copenhagen': 5,\n",
       "             'Europe/Dublin': 3,\n",
       "             'Europe/Helsinki': 10,\n",
       "             'Europe/Lisbon': 8,\n",
       "             'Europe/Ljubljana': 1,\n",
       "             'Europe/London': 74,\n",
       "             'Europe/Madrid': 35,\n",
       "             'Europe/Malta': 2,\n",
       "             'Europe/Moscow': 10,\n",
       "             'Europe/Oslo': 10,\n",
       "             'Europe/Paris': 14,\n",
       "             'Europe/Prague': 10,\n",
       "             'Europe/Riga': 2,\n",
       "             'Europe/Rome': 27,\n",
       "             'Europe/Skopje': 1,\n",
       "             'Europe/Sofia': 1,\n",
       "             'Europe/Stockholm': 14,\n",
       "             'Europe/Uzhgorod': 1,\n",
       "             'Europe/Vienna': 6,\n",
       "             'Europe/Vilnius': 2,\n",
       "             'Europe/Volgograd': 1,\n",
       "             'Europe/Warsaw': 16,\n",
       "             'Europe/Zurich': 4,\n",
       "             'Pacific/Auckland': 11,\n",
       "             'Pacific/Honolulu': 36})"
      ]
     },
     "execution_count": 90,
     "metadata": {},
     "output_type": "execute_result"
    }
   ],
   "source": [
    "get_counts(time_zones)"
   ]
  },
  {
   "cell_type": "code",
   "execution_count": 101,
   "metadata": {},
   "outputs": [
    {
     "data": {
      "text/plain": [
       "3440"
      ]
     },
     "execution_count": 101,
     "metadata": {},
     "output_type": "execute_result"
    }
   ],
   "source": [
    "len(time_zones)"
   ]
  },
  {
   "cell_type": "code",
   "execution_count": 100,
   "metadata": {},
   "outputs": [
    {
     "data": {
      "text/plain": [
       "1251"
      ]
     },
     "execution_count": 100,
     "metadata": {},
     "output_type": "execute_result"
    }
   ],
   "source": [
    "counts['America/New_York']"
   ]
  },
  {
   "cell_type": "code",
   "execution_count": 110,
   "metadata": {},
   "outputs": [],
   "source": [
    "def top_counts(count_dict, n=10):\n",
    "    value_key_pairs = [(count, tz) for tz, count in count_dict.items()]\n",
    "    value_key_pairs.sort()\n",
    "    return value_key_pairs[-n:]"
   ]
  },
  {
   "cell_type": "code",
   "execution_count": 111,
   "metadata": {},
   "outputs": [
    {
     "data": {
      "text/plain": [
       "[(33, 'America/Sao_Paulo'),\n",
       " (35, 'Europe/Madrid'),\n",
       " (36, 'Pacific/Honolulu'),\n",
       " (37, 'Asia/Tokyo'),\n",
       " (74, 'Europe/London'),\n",
       " (191, 'America/Denver'),\n",
       " (382, 'America/Los_Angeles'),\n",
       " (400, 'America/Chicago'),\n",
       " (521, ''),\n",
       " (1251, 'America/New_York')]"
      ]
     },
     "execution_count": 111,
     "metadata": {},
     "output_type": "execute_result"
    }
   ],
   "source": [
    "top_counts(counts)"
   ]
  },
  {
   "cell_type": "code",
   "execution_count": 112,
   "metadata": {},
   "outputs": [],
   "source": [
    "from collections import Counter"
   ]
  },
  {
   "cell_type": "code",
   "execution_count": null,
   "metadata": {
    "collapsed": true
   },
   "outputs": [],
   "source": []
  }
 ],
 "metadata": {
  "kernelspec": {
   "display_name": "Python [conda env:anaconda]",
   "language": "python",
   "name": "conda-env-anaconda-py"
  },
  "language_info": {
   "codemirror_mode": {
    "name": "ipython",
    "version": 3
   },
   "file_extension": ".py",
   "mimetype": "text/x-python",
   "name": "python",
   "nbconvert_exporter": "python",
   "pygments_lexer": "ipython3",
   "version": "3.5.5"
  }
 },
 "nbformat": 4,
 "nbformat_minor": 2
}
